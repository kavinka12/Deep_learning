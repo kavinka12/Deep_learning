{
  "nbformat": 4,
  "nbformat_minor": 0,
  "metadata": {
    "colab": {
      "provenance": [],
      "gpuType": "T4"
    },
    "kernelspec": {
      "name": "python3",
      "display_name": "Python 3"
    },
    "language_info": {
      "name": "python"
    },
    "accelerator": "GPU"
  },
  "cells": [
    {
      "cell_type": "code",
      "execution_count": 1,
      "metadata": {
        "id": "wQppK49P3ClC"
      },
      "outputs": [],
      "source": [
        "import pandas as pd\n",
        "import matplotlib.pyplot as plt\n",
        "import tensorflow as tf\n"
      ]
    },
    {
      "cell_type": "code",
      "source": [
        "data =pd.read_csv('/content/dataset.csv')"
      ],
      "metadata": {
        "id": "Y1F_TVPr3PT0"
      },
      "execution_count": 2,
      "outputs": []
    },
    {
      "cell_type": "code",
      "source": [
        "data"
      ],
      "metadata": {
        "colab": {
          "base_uri": "https://localhost:8080/",
          "height": 423
        },
        "id": "Eh9s9-463s2s",
        "outputId": "b8dcea41-7401-4757-afb8-0271e96b108a"
      },
      "execution_count": 3,
      "outputs": [
        {
          "output_type": "execute_result",
          "data": {
            "text/plain": [
              "      x          y\n",
              "0    77  79.775152\n",
              "1    21  23.177279\n",
              "2    22  25.609262\n",
              "3    20  17.857388\n",
              "4    36  41.849864\n",
              "..   ..        ...\n",
              "295  71  68.545888\n",
              "296  46  47.334876\n",
              "297  55  54.090637\n",
              "298  62  63.297171\n",
              "299  47  52.459467\n",
              "\n",
              "[300 rows x 2 columns]"
            ],
            "text/html": [
              "\n",
              "  <div id=\"df-f1f8773e-0cde-474c-bdde-28c7950ee2c1\" class=\"colab-df-container\">\n",
              "    <div>\n",
              "<style scoped>\n",
              "    .dataframe tbody tr th:only-of-type {\n",
              "        vertical-align: middle;\n",
              "    }\n",
              "\n",
              "    .dataframe tbody tr th {\n",
              "        vertical-align: top;\n",
              "    }\n",
              "\n",
              "    .dataframe thead th {\n",
              "        text-align: right;\n",
              "    }\n",
              "</style>\n",
              "<table border=\"1\" class=\"dataframe\">\n",
              "  <thead>\n",
              "    <tr style=\"text-align: right;\">\n",
              "      <th></th>\n",
              "      <th>x</th>\n",
              "      <th>y</th>\n",
              "    </tr>\n",
              "  </thead>\n",
              "  <tbody>\n",
              "    <tr>\n",
              "      <th>0</th>\n",
              "      <td>77</td>\n",
              "      <td>79.775152</td>\n",
              "    </tr>\n",
              "    <tr>\n",
              "      <th>1</th>\n",
              "      <td>21</td>\n",
              "      <td>23.177279</td>\n",
              "    </tr>\n",
              "    <tr>\n",
              "      <th>2</th>\n",
              "      <td>22</td>\n",
              "      <td>25.609262</td>\n",
              "    </tr>\n",
              "    <tr>\n",
              "      <th>3</th>\n",
              "      <td>20</td>\n",
              "      <td>17.857388</td>\n",
              "    </tr>\n",
              "    <tr>\n",
              "      <th>4</th>\n",
              "      <td>36</td>\n",
              "      <td>41.849864</td>\n",
              "    </tr>\n",
              "    <tr>\n",
              "      <th>...</th>\n",
              "      <td>...</td>\n",
              "      <td>...</td>\n",
              "    </tr>\n",
              "    <tr>\n",
              "      <th>295</th>\n",
              "      <td>71</td>\n",
              "      <td>68.545888</td>\n",
              "    </tr>\n",
              "    <tr>\n",
              "      <th>296</th>\n",
              "      <td>46</td>\n",
              "      <td>47.334876</td>\n",
              "    </tr>\n",
              "    <tr>\n",
              "      <th>297</th>\n",
              "      <td>55</td>\n",
              "      <td>54.090637</td>\n",
              "    </tr>\n",
              "    <tr>\n",
              "      <th>298</th>\n",
              "      <td>62</td>\n",
              "      <td>63.297171</td>\n",
              "    </tr>\n",
              "    <tr>\n",
              "      <th>299</th>\n",
              "      <td>47</td>\n",
              "      <td>52.459467</td>\n",
              "    </tr>\n",
              "  </tbody>\n",
              "</table>\n",
              "<p>300 rows × 2 columns</p>\n",
              "</div>\n",
              "    <div class=\"colab-df-buttons\">\n",
              "\n",
              "  <div class=\"colab-df-container\">\n",
              "    <button class=\"colab-df-convert\" onclick=\"convertToInteractive('df-f1f8773e-0cde-474c-bdde-28c7950ee2c1')\"\n",
              "            title=\"Convert this dataframe to an interactive table.\"\n",
              "            style=\"display:none;\">\n",
              "\n",
              "  <svg xmlns=\"http://www.w3.org/2000/svg\" height=\"24px\" viewBox=\"0 -960 960 960\">\n",
              "    <path d=\"M120-120v-720h720v720H120Zm60-500h600v-160H180v160Zm220 220h160v-160H400v160Zm0 220h160v-160H400v160ZM180-400h160v-160H180v160Zm440 0h160v-160H620v160ZM180-180h160v-160H180v160Zm440 0h160v-160H620v160Z\"/>\n",
              "  </svg>\n",
              "    </button>\n",
              "\n",
              "  <style>\n",
              "    .colab-df-container {\n",
              "      display:flex;\n",
              "      gap: 12px;\n",
              "    }\n",
              "\n",
              "    .colab-df-convert {\n",
              "      background-color: #E8F0FE;\n",
              "      border: none;\n",
              "      border-radius: 50%;\n",
              "      cursor: pointer;\n",
              "      display: none;\n",
              "      fill: #1967D2;\n",
              "      height: 32px;\n",
              "      padding: 0 0 0 0;\n",
              "      width: 32px;\n",
              "    }\n",
              "\n",
              "    .colab-df-convert:hover {\n",
              "      background-color: #E2EBFA;\n",
              "      box-shadow: 0px 1px 2px rgba(60, 64, 67, 0.3), 0px 1px 3px 1px rgba(60, 64, 67, 0.15);\n",
              "      fill: #174EA6;\n",
              "    }\n",
              "\n",
              "    .colab-df-buttons div {\n",
              "      margin-bottom: 4px;\n",
              "    }\n",
              "\n",
              "    [theme=dark] .colab-df-convert {\n",
              "      background-color: #3B4455;\n",
              "      fill: #D2E3FC;\n",
              "    }\n",
              "\n",
              "    [theme=dark] .colab-df-convert:hover {\n",
              "      background-color: #434B5C;\n",
              "      box-shadow: 0px 1px 3px 1px rgba(0, 0, 0, 0.15);\n",
              "      filter: drop-shadow(0px 1px 2px rgba(0, 0, 0, 0.3));\n",
              "      fill: #FFFFFF;\n",
              "    }\n",
              "  </style>\n",
              "\n",
              "    <script>\n",
              "      const buttonEl =\n",
              "        document.querySelector('#df-f1f8773e-0cde-474c-bdde-28c7950ee2c1 button.colab-df-convert');\n",
              "      buttonEl.style.display =\n",
              "        google.colab.kernel.accessAllowed ? 'block' : 'none';\n",
              "\n",
              "      async function convertToInteractive(key) {\n",
              "        const element = document.querySelector('#df-f1f8773e-0cde-474c-bdde-28c7950ee2c1');\n",
              "        const dataTable =\n",
              "          await google.colab.kernel.invokeFunction('convertToInteractive',\n",
              "                                                    [key], {});\n",
              "        if (!dataTable) return;\n",
              "\n",
              "        const docLinkHtml = 'Like what you see? Visit the ' +\n",
              "          '<a target=\"_blank\" href=https://colab.research.google.com/notebooks/data_table.ipynb>data table notebook</a>'\n",
              "          + ' to learn more about interactive tables.';\n",
              "        element.innerHTML = '';\n",
              "        dataTable['output_type'] = 'display_data';\n",
              "        await google.colab.output.renderOutput(dataTable, element);\n",
              "        const docLink = document.createElement('div');\n",
              "        docLink.innerHTML = docLinkHtml;\n",
              "        element.appendChild(docLink);\n",
              "      }\n",
              "    </script>\n",
              "  </div>\n",
              "\n",
              "\n",
              "    <div id=\"df-2ede505c-de5d-459b-8ea7-7fc6458454dd\">\n",
              "      <button class=\"colab-df-quickchart\" onclick=\"quickchart('df-2ede505c-de5d-459b-8ea7-7fc6458454dd')\"\n",
              "                title=\"Suggest charts\"\n",
              "                style=\"display:none;\">\n",
              "\n",
              "<svg xmlns=\"http://www.w3.org/2000/svg\" height=\"24px\"viewBox=\"0 0 24 24\"\n",
              "     width=\"24px\">\n",
              "    <g>\n",
              "        <path d=\"M19 3H5c-1.1 0-2 .9-2 2v14c0 1.1.9 2 2 2h14c1.1 0 2-.9 2-2V5c0-1.1-.9-2-2-2zM9 17H7v-7h2v7zm4 0h-2V7h2v10zm4 0h-2v-4h2v4z\"/>\n",
              "    </g>\n",
              "</svg>\n",
              "      </button>\n",
              "\n",
              "<style>\n",
              "  .colab-df-quickchart {\n",
              "      --bg-color: #E8F0FE;\n",
              "      --fill-color: #1967D2;\n",
              "      --hover-bg-color: #E2EBFA;\n",
              "      --hover-fill-color: #174EA6;\n",
              "      --disabled-fill-color: #AAA;\n",
              "      --disabled-bg-color: #DDD;\n",
              "  }\n",
              "\n",
              "  [theme=dark] .colab-df-quickchart {\n",
              "      --bg-color: #3B4455;\n",
              "      --fill-color: #D2E3FC;\n",
              "      --hover-bg-color: #434B5C;\n",
              "      --hover-fill-color: #FFFFFF;\n",
              "      --disabled-bg-color: #3B4455;\n",
              "      --disabled-fill-color: #666;\n",
              "  }\n",
              "\n",
              "  .colab-df-quickchart {\n",
              "    background-color: var(--bg-color);\n",
              "    border: none;\n",
              "    border-radius: 50%;\n",
              "    cursor: pointer;\n",
              "    display: none;\n",
              "    fill: var(--fill-color);\n",
              "    height: 32px;\n",
              "    padding: 0;\n",
              "    width: 32px;\n",
              "  }\n",
              "\n",
              "  .colab-df-quickchart:hover {\n",
              "    background-color: var(--hover-bg-color);\n",
              "    box-shadow: 0 1px 2px rgba(60, 64, 67, 0.3), 0 1px 3px 1px rgba(60, 64, 67, 0.15);\n",
              "    fill: var(--button-hover-fill-color);\n",
              "  }\n",
              "\n",
              "  .colab-df-quickchart-complete:disabled,\n",
              "  .colab-df-quickchart-complete:disabled:hover {\n",
              "    background-color: var(--disabled-bg-color);\n",
              "    fill: var(--disabled-fill-color);\n",
              "    box-shadow: none;\n",
              "  }\n",
              "\n",
              "  .colab-df-spinner {\n",
              "    border: 2px solid var(--fill-color);\n",
              "    border-color: transparent;\n",
              "    border-bottom-color: var(--fill-color);\n",
              "    animation:\n",
              "      spin 1s steps(1) infinite;\n",
              "  }\n",
              "\n",
              "  @keyframes spin {\n",
              "    0% {\n",
              "      border-color: transparent;\n",
              "      border-bottom-color: var(--fill-color);\n",
              "      border-left-color: var(--fill-color);\n",
              "    }\n",
              "    20% {\n",
              "      border-color: transparent;\n",
              "      border-left-color: var(--fill-color);\n",
              "      border-top-color: var(--fill-color);\n",
              "    }\n",
              "    30% {\n",
              "      border-color: transparent;\n",
              "      border-left-color: var(--fill-color);\n",
              "      border-top-color: var(--fill-color);\n",
              "      border-right-color: var(--fill-color);\n",
              "    }\n",
              "    40% {\n",
              "      border-color: transparent;\n",
              "      border-right-color: var(--fill-color);\n",
              "      border-top-color: var(--fill-color);\n",
              "    }\n",
              "    60% {\n",
              "      border-color: transparent;\n",
              "      border-right-color: var(--fill-color);\n",
              "    }\n",
              "    80% {\n",
              "      border-color: transparent;\n",
              "      border-right-color: var(--fill-color);\n",
              "      border-bottom-color: var(--fill-color);\n",
              "    }\n",
              "    90% {\n",
              "      border-color: transparent;\n",
              "      border-bottom-color: var(--fill-color);\n",
              "    }\n",
              "  }\n",
              "</style>\n",
              "\n",
              "      <script>\n",
              "        async function quickchart(key) {\n",
              "          const quickchartButtonEl =\n",
              "            document.querySelector('#' + key + ' button');\n",
              "          quickchartButtonEl.disabled = true;  // To prevent multiple clicks.\n",
              "          quickchartButtonEl.classList.add('colab-df-spinner');\n",
              "          try {\n",
              "            const charts = await google.colab.kernel.invokeFunction(\n",
              "                'suggestCharts', [key], {});\n",
              "          } catch (error) {\n",
              "            console.error('Error during call to suggestCharts:', error);\n",
              "          }\n",
              "          quickchartButtonEl.classList.remove('colab-df-spinner');\n",
              "          quickchartButtonEl.classList.add('colab-df-quickchart-complete');\n",
              "        }\n",
              "        (() => {\n",
              "          let quickchartButtonEl =\n",
              "            document.querySelector('#df-2ede505c-de5d-459b-8ea7-7fc6458454dd button');\n",
              "          quickchartButtonEl.style.display =\n",
              "            google.colab.kernel.accessAllowed ? 'block' : 'none';\n",
              "        })();\n",
              "      </script>\n",
              "    </div>\n",
              "\n",
              "  <div id=\"id_5ecb6152-d7f6-406c-966e-5a1b86e24759\">\n",
              "    <style>\n",
              "      .colab-df-generate {\n",
              "        background-color: #E8F0FE;\n",
              "        border: none;\n",
              "        border-radius: 50%;\n",
              "        cursor: pointer;\n",
              "        display: none;\n",
              "        fill: #1967D2;\n",
              "        height: 32px;\n",
              "        padding: 0 0 0 0;\n",
              "        width: 32px;\n",
              "      }\n",
              "\n",
              "      .colab-df-generate:hover {\n",
              "        background-color: #E2EBFA;\n",
              "        box-shadow: 0px 1px 2px rgba(60, 64, 67, 0.3), 0px 1px 3px 1px rgba(60, 64, 67, 0.15);\n",
              "        fill: #174EA6;\n",
              "      }\n",
              "\n",
              "      [theme=dark] .colab-df-generate {\n",
              "        background-color: #3B4455;\n",
              "        fill: #D2E3FC;\n",
              "      }\n",
              "\n",
              "      [theme=dark] .colab-df-generate:hover {\n",
              "        background-color: #434B5C;\n",
              "        box-shadow: 0px 1px 3px 1px rgba(0, 0, 0, 0.15);\n",
              "        filter: drop-shadow(0px 1px 2px rgba(0, 0, 0, 0.3));\n",
              "        fill: #FFFFFF;\n",
              "      }\n",
              "    </style>\n",
              "    <button class=\"colab-df-generate\" onclick=\"generateWithVariable('data')\"\n",
              "            title=\"Generate code using this dataframe.\"\n",
              "            style=\"display:none;\">\n",
              "\n",
              "  <svg xmlns=\"http://www.w3.org/2000/svg\" height=\"24px\"viewBox=\"0 0 24 24\"\n",
              "       width=\"24px\">\n",
              "    <path d=\"M7,19H8.4L18.45,9,17,7.55,7,17.6ZM5,21V16.75L18.45,3.32a2,2,0,0,1,2.83,0l1.4,1.43a1.91,1.91,0,0,1,.58,1.4,1.91,1.91,0,0,1-.58,1.4L9.25,21ZM18.45,9,17,7.55Zm-12,3A5.31,5.31,0,0,0,4.9,8.1,5.31,5.31,0,0,0,1,6.5,5.31,5.31,0,0,0,4.9,4.9,5.31,5.31,0,0,0,6.5,1,5.31,5.31,0,0,0,8.1,4.9,5.31,5.31,0,0,0,12,6.5,5.46,5.46,0,0,0,6.5,12Z\"/>\n",
              "  </svg>\n",
              "    </button>\n",
              "    <script>\n",
              "      (() => {\n",
              "      const buttonEl =\n",
              "        document.querySelector('#id_5ecb6152-d7f6-406c-966e-5a1b86e24759 button.colab-df-generate');\n",
              "      buttonEl.style.display =\n",
              "        google.colab.kernel.accessAllowed ? 'block' : 'none';\n",
              "\n",
              "      buttonEl.onclick = () => {\n",
              "        google.colab.notebook.generateWithVariable('data');\n",
              "      }\n",
              "      })();\n",
              "    </script>\n",
              "  </div>\n",
              "\n",
              "    </div>\n",
              "  </div>\n"
            ],
            "application/vnd.google.colaboratory.intrinsic+json": {
              "type": "dataframe",
              "variable_name": "data",
              "summary": "{\n  \"name\": \"data\",\n  \"rows\": 300,\n  \"fields\": [\n    {\n      \"column\": \"x\",\n      \"properties\": {\n        \"dtype\": \"number\",\n        \"std\": 28,\n        \"min\": 0,\n        \"max\": 100,\n        \"num_unique_values\": 97,\n        \"samples\": [\n          38,\n          88,\n          6\n        ],\n        \"semantic_type\": \"\",\n        \"description\": \"\"\n      }\n    },\n    {\n      \"column\": \"y\",\n      \"properties\": {\n        \"dtype\": \"number\",\n        \"std\": 29.0714808559721,\n        \"min\": -3.467883789,\n        \"max\": 105.5918375,\n        \"num_unique_values\": 300,\n        \"samples\": [\n          92.88772282,\n          79.50341495,\n          97.00148372\n        ],\n        \"semantic_type\": \"\",\n        \"description\": \"\"\n      }\n    }\n  ]\n}"
            }
          },
          "metadata": {},
          "execution_count": 3
        }
      ]
    },
    {
      "cell_type": "code",
      "source": [
        "data.shape"
      ],
      "metadata": {
        "colab": {
          "base_uri": "https://localhost:8080/"
        },
        "id": "NmfXPweP4OZU",
        "outputId": "9c38a94d-9d8a-4d5d-aac6-0e351800c3bc"
      },
      "execution_count": 5,
      "outputs": [
        {
          "output_type": "execute_result",
          "data": {
            "text/plain": [
              "(300, 2)"
            ]
          },
          "metadata": {},
          "execution_count": 5
        }
      ]
    },
    {
      "cell_type": "code",
      "source": [
        "x= data['x']\n",
        "y=data['y']"
      ],
      "metadata": {
        "id": "gszPI-au4YMt"
      },
      "execution_count": 6,
      "outputs": []
    },
    {
      "cell_type": "code",
      "source": [
        "x"
      ],
      "metadata": {
        "colab": {
          "base_uri": "https://localhost:8080/",
          "height": 458
        },
        "id": "kcC035ww4iUE",
        "outputId": "26a2dc7d-ca57-4dca-c2a7-f3ecfa7d9a6c"
      },
      "execution_count": 7,
      "outputs": [
        {
          "output_type": "execute_result",
          "data": {
            "text/plain": [
              "0      77\n",
              "1      21\n",
              "2      22\n",
              "3      20\n",
              "4      36\n",
              "       ..\n",
              "295    71\n",
              "296    46\n",
              "297    55\n",
              "298    62\n",
              "299    47\n",
              "Name: x, Length: 300, dtype: int64"
            ],
            "text/html": [
              "<div>\n",
              "<style scoped>\n",
              "    .dataframe tbody tr th:only-of-type {\n",
              "        vertical-align: middle;\n",
              "    }\n",
              "\n",
              "    .dataframe tbody tr th {\n",
              "        vertical-align: top;\n",
              "    }\n",
              "\n",
              "    .dataframe thead th {\n",
              "        text-align: right;\n",
              "    }\n",
              "</style>\n",
              "<table border=\"1\" class=\"dataframe\">\n",
              "  <thead>\n",
              "    <tr style=\"text-align: right;\">\n",
              "      <th></th>\n",
              "      <th>x</th>\n",
              "    </tr>\n",
              "  </thead>\n",
              "  <tbody>\n",
              "    <tr>\n",
              "      <th>0</th>\n",
              "      <td>77</td>\n",
              "    </tr>\n",
              "    <tr>\n",
              "      <th>1</th>\n",
              "      <td>21</td>\n",
              "    </tr>\n",
              "    <tr>\n",
              "      <th>2</th>\n",
              "      <td>22</td>\n",
              "    </tr>\n",
              "    <tr>\n",
              "      <th>3</th>\n",
              "      <td>20</td>\n",
              "    </tr>\n",
              "    <tr>\n",
              "      <th>4</th>\n",
              "      <td>36</td>\n",
              "    </tr>\n",
              "    <tr>\n",
              "      <th>...</th>\n",
              "      <td>...</td>\n",
              "    </tr>\n",
              "    <tr>\n",
              "      <th>295</th>\n",
              "      <td>71</td>\n",
              "    </tr>\n",
              "    <tr>\n",
              "      <th>296</th>\n",
              "      <td>46</td>\n",
              "    </tr>\n",
              "    <tr>\n",
              "      <th>297</th>\n",
              "      <td>55</td>\n",
              "    </tr>\n",
              "    <tr>\n",
              "      <th>298</th>\n",
              "      <td>62</td>\n",
              "    </tr>\n",
              "    <tr>\n",
              "      <th>299</th>\n",
              "      <td>47</td>\n",
              "    </tr>\n",
              "  </tbody>\n",
              "</table>\n",
              "<p>300 rows × 1 columns</p>\n",
              "</div><br><label><b>dtype:</b> int64</label>"
            ]
          },
          "metadata": {},
          "execution_count": 7
        }
      ]
    },
    {
      "cell_type": "code",
      "source": [
        "y"
      ],
      "metadata": {
        "colab": {
          "base_uri": "https://localhost:8080/",
          "height": 458
        },
        "id": "e0St-soD4jfk",
        "outputId": "bde80ba6-7dfc-41da-f063-14bb993aa6e1"
      },
      "execution_count": 8,
      "outputs": [
        {
          "output_type": "execute_result",
          "data": {
            "text/plain": [
              "0      79.775152\n",
              "1      23.177279\n",
              "2      25.609262\n",
              "3      17.857388\n",
              "4      41.849864\n",
              "         ...    \n",
              "295    68.545888\n",
              "296    47.334876\n",
              "297    54.090637\n",
              "298    63.297171\n",
              "299    52.459467\n",
              "Name: y, Length: 300, dtype: float64"
            ],
            "text/html": [
              "<div>\n",
              "<style scoped>\n",
              "    .dataframe tbody tr th:only-of-type {\n",
              "        vertical-align: middle;\n",
              "    }\n",
              "\n",
              "    .dataframe tbody tr th {\n",
              "        vertical-align: top;\n",
              "    }\n",
              "\n",
              "    .dataframe thead th {\n",
              "        text-align: right;\n",
              "    }\n",
              "</style>\n",
              "<table border=\"1\" class=\"dataframe\">\n",
              "  <thead>\n",
              "    <tr style=\"text-align: right;\">\n",
              "      <th></th>\n",
              "      <th>y</th>\n",
              "    </tr>\n",
              "  </thead>\n",
              "  <tbody>\n",
              "    <tr>\n",
              "      <th>0</th>\n",
              "      <td>79.775152</td>\n",
              "    </tr>\n",
              "    <tr>\n",
              "      <th>1</th>\n",
              "      <td>23.177279</td>\n",
              "    </tr>\n",
              "    <tr>\n",
              "      <th>2</th>\n",
              "      <td>25.609262</td>\n",
              "    </tr>\n",
              "    <tr>\n",
              "      <th>3</th>\n",
              "      <td>17.857388</td>\n",
              "    </tr>\n",
              "    <tr>\n",
              "      <th>4</th>\n",
              "      <td>41.849864</td>\n",
              "    </tr>\n",
              "    <tr>\n",
              "      <th>...</th>\n",
              "      <td>...</td>\n",
              "    </tr>\n",
              "    <tr>\n",
              "      <th>295</th>\n",
              "      <td>68.545888</td>\n",
              "    </tr>\n",
              "    <tr>\n",
              "      <th>296</th>\n",
              "      <td>47.334876</td>\n",
              "    </tr>\n",
              "    <tr>\n",
              "      <th>297</th>\n",
              "      <td>54.090637</td>\n",
              "    </tr>\n",
              "    <tr>\n",
              "      <th>298</th>\n",
              "      <td>63.297171</td>\n",
              "    </tr>\n",
              "    <tr>\n",
              "      <th>299</th>\n",
              "      <td>52.459467</td>\n",
              "    </tr>\n",
              "  </tbody>\n",
              "</table>\n",
              "<p>300 rows × 1 columns</p>\n",
              "</div><br><label><b>dtype:</b> float64</label>"
            ]
          },
          "metadata": {},
          "execution_count": 8
        }
      ]
    },
    {
      "cell_type": "code",
      "source": [
        "plt.scatter(x,y,c='b')\n",
        "plt.show()"
      ],
      "metadata": {
        "colab": {
          "base_uri": "https://localhost:8080/",
          "height": 430
        },
        "id": "jXpZ-_-g4kWE",
        "outputId": "243c61ea-5eb3-4fde-eca0-4d2de36b9b8c"
      },
      "execution_count": 10,
      "outputs": [
        {
          "output_type": "display_data",
          "data": {
            "text/plain": [
              "<Figure size 640x480 with 1 Axes>"
            ],
            "image/png": "[encoded data removed]"
          },
          "metadata": {}
        }
      ]
    },
    {
      "cell_type": "code",
      "source": [
        "from sklearn.model_selection import train_test_split\n",
        "x_train,x_test,y_train,y_test = train_test_split(x,y,test_size=0.2,random_state=0)"
      ],
      "metadata": {
        "id": "qj39HU-j4vUz"
      },
      "execution_count": 12,
      "outputs": []
    },
    {
      "cell_type": "code",
      "source": [
        "x_train.shape,x_test.shape"
      ],
      "metadata": {
        "colab": {
          "base_uri": "https://localhost:8080/"
        },
        "id": "lpY-aDF-5JOE",
        "outputId": "d7379ea3-a2c0-47d3-b13d-aab1f0c4fcef"
      },
      "execution_count": 13,
      "outputs": [
        {
          "output_type": "execute_result",
          "data": {
            "text/plain": [
              "((240,), (60,))"
            ]
          },
          "metadata": {},
          "execution_count": 13
        }
      ]
    },
    {
      "cell_type": "code",
      "source": [
        "plt.scatter(x_train,y_train,c='b',label='training data')\n",
        "plt.scatter(x_test,y_test,c='y',label='testing data')\n",
        "plt.legend()\n",
        "plt.show()"
      ],
      "metadata": {
        "colab": {
          "base_uri": "https://localhost:8080/",
          "height": 430
        },
        "id": "LBrHftMF5c0N",
        "outputId": "6df839e1-fc31-4b7d-bd41-53446ff1fe28"
      },
      "execution_count": 15,
      "outputs": [
        {
          "output_type": "display_data",
          "data": {
            "text/plain": [
              "<Figure size 640x480 with 1 Axes>"
            ],
            "image/png": "[encoded data removed]"
          },
          "metadata": {}
        }
      ]
    },
    {
      "cell_type": "markdown",
      "source": [
        "###Model Building"
      ],
      "metadata": {
        "id": "jZSa_6jy6PQd"
      }
    },
    {
      "cell_type": "code",
      "source": [
        "#create a model\n",
        "model=  tf.keras.Sequential([\n",
        "    tf.keras.layers.Dense(64,input_shape=(1,)),\n",
        "    tf.keras.layers.Dense(10),\n",
        "    tf.keras.layers.Dense(1)\n",
        "])\n",
        "\n",
        "#complie model\n",
        "model.compile(loss=tf.keras.losses.mae,\n",
        "              optimizer=tf.keras.optimizers.Adam(learning_rate=0.05),\n",
        "              metrics= ['mae'])\n",
        "\n",
        "\n",
        "#train model\n",
        "epoch_number=10\n",
        "history = model.fit(tf.expand_dims(x_train,axis=1),y_train,epochs=epoch_number)"
      ],
      "metadata": {
        "colab": {
          "base_uri": "https://localhost:8080/"
        },
        "id": "XOgBZ60t5_a9",
        "outputId": "5d835a04-f08d-45ae-c6cb-a6d181fda298"
      },
      "execution_count": 47,
      "outputs": [
        {
          "output_type": "stream",
          "name": "stdout",
          "text": [
            "Epoch 1/10\n"
          ]
        },
        {
          "output_type": "stream",
          "name": "stderr",
          "text": [
            "/usr/local/lib/python3.11/dist-packages/keras/src/layers/core/dense.py:87: UserWarning: Do not pass an `input_shape`/`input_dim` argument to a layer. When using Sequential models, prefer using an `Input(shape)` object as the first layer in the model instead.\n",
            "  super().__init__(activity_regularizer=activity_regularizer, **kwargs)\n"
          ]
        },
        {
          "output_type": "stream",
          "name": "stdout",
          "text": [
            "\u001b[1m8/8\u001b[0m \u001b[32m━━━━━━━━━━━━━━━━━━━━\u001b[0m\u001b[37m\u001b[0m \u001b[1m2s\u001b[0m 46ms/step - loss: 39.4182 - mae: 39.4182\n",
            "Epoch 2/10\n",
            "\u001b[1m8/8\u001b[0m \u001b[32m━━━━━━━━━━━━━━━━━━━━\u001b[0m\u001b[37m\u001b[0m \u001b[1m1s\u001b[0m 5ms/step - loss: 12.3274 - mae: 12.3274  \n",
            "Epoch 3/10\n",
            "\u001b[1m8/8\u001b[0m \u001b[32m━━━━━━━━━━━━━━━━━━━━\u001b[0m\u001b[37m\u001b[0m \u001b[1m0s\u001b[0m 5ms/step - loss: 5.8991 - mae: 5.8991 \n",
            "Epoch 4/10\n",
            "\u001b[1m8/8\u001b[0m \u001b[32m━━━━━━━━━━━━━━━━━━━━\u001b[0m\u001b[37m\u001b[0m \u001b[1m0s\u001b[0m 5ms/step - loss: 4.6686 - mae: 4.6686 \n",
            "Epoch 5/10\n",
            "\u001b[1m8/8\u001b[0m \u001b[32m━━━━━━━━━━━━━━━━━━━━\u001b[0m\u001b[37m\u001b[0m \u001b[1m0s\u001b[0m 5ms/step - loss: 3.8935 - mae: 3.8935 \n",
            "Epoch 6/10\n",
            "\u001b[1m8/8\u001b[0m \u001b[32m━━━━━━━━━━━━━━━━━━━━\u001b[0m\u001b[37m\u001b[0m \u001b[1m0s\u001b[0m 6ms/step - loss: 3.1444 - mae: 3.1444 \n",
            "Epoch 7/10\n",
            "\u001b[1m8/8\u001b[0m \u001b[32m━━━━━━━━━━━━━━━━━━━━\u001b[0m\u001b[37m\u001b[0m \u001b[1m0s\u001b[0m 5ms/step - loss: 2.7239 - mae: 2.7239 \n",
            "Epoch 8/10\n",
            "\u001b[1m8/8\u001b[0m \u001b[32m━━━━━━━━━━━━━━━━━━━━\u001b[0m\u001b[37m\u001b[0m \u001b[1m0s\u001b[0m 5ms/step - loss: 2.9328 - mae: 2.9328  \n",
            "Epoch 9/10\n",
            "\u001b[1m8/8\u001b[0m \u001b[32m━━━━━━━━━━━━━━━━━━━━\u001b[0m\u001b[37m\u001b[0m \u001b[1m0s\u001b[0m 5ms/step - loss: 2.8613 - mae: 2.8613 \n",
            "Epoch 10/10\n",
            "\u001b[1m8/8\u001b[0m \u001b[32m━━━━━━━━━━━━━━━━━━━━\u001b[0m\u001b[37m\u001b[0m \u001b[1m0s\u001b[0m 5ms/step - loss: 2.5874 - mae: 2.5874 \n"
          ]
        }
      ]
    },
    {
      "cell_type": "code",
      "source": [
        "model.summary()"
      ],
      "metadata": {
        "colab": {
          "base_uri": "https://localhost:8080/",
          "height": 241
        },
        "id": "Jb-XhD9i8w7t",
        "outputId": "bca33c7f-4d16-45e3-a278-6e8b82316f20"
      },
      "execution_count": 48,
      "outputs": [
        {
          "output_type": "display_data",
          "data": {
            "text/plain": [
              "\u001b[1mModel: \"sequential_4\"\u001b[0m\n"
            ],
            "text/html": [
              "<pre style=\"white-space:pre;overflow-x:auto;line-height:normal;font-family:Menlo,'DejaVu Sans Mono',consolas,'Courier New',monospace\"><span style=\"font-weight: bold\">Model: \"sequential_4\"</span>\n",
              "</pre>\n"
            ]
          },
          "metadata": {}
        },
        {
          "output_type": "display_data",
          "data": {
            "text/plain": [
              "┏━━━━━━━━━━━━━━━━━━━━━━━━━━━━━━━━━┳━━━━━━━━━━━━━━━━━━━━━━━━┳━━━━━━━━━━━━━━━┓\n",
              "┃\u001b[1m \u001b[0m\u001b[1mLayer (type)                   \u001b[0m\u001b[1m \u001b[0m┃\u001b[1m \u001b[0m\u001b[1mOutput Shape          \u001b[0m\u001b[1m \u001b[0m┃\u001b[1m \u001b[0m\u001b[1m      Param #\u001b[0m\u001b[1m \u001b[0m┃\n",
              "┡━━━━━━━━━━━━━━━━━━━━━━━━━━━━━━━━━╇━━━━━━━━━━━━━━━━━━━━━━━━╇━━━━━━━━━━━━━━━┩\n",
              "│ dense_11 (\u001b[38;5;33mDense\u001b[0m)                │ (\u001b[38;5;45mNone\u001b[0m, \u001b[38;5;34m64\u001b[0m)             │           \u001b[38;5;34m128\u001b[0m │\n",
              "├─────────────────────────────────┼────────────────────────┼───────────────┤\n",
              "│ dense_12 (\u001b[38;5;33mDense\u001b[0m)                │ (\u001b[38;5;45mNone\u001b[0m, \u001b[38;5;34m10\u001b[0m)             │           \u001b[38;5;34m650\u001b[0m │\n",
              "├─────────────────────────────────┼────────────────────────┼───────────────┤\n",
              "│ dense_13 (\u001b[38;5;33mDense\u001b[0m)                │ (\u001b[38;5;45mNone\u001b[0m, \u001b[38;5;34m1\u001b[0m)              │            \u001b[38;5;34m11\u001b[0m │\n",
              "└─────────────────────────────────┴────────────────────────┴───────────────┘\n"
            ],
            "text/html": [
              "<pre style=\"white-space:pre;overflow-x:auto;line-height:normal;font-family:Menlo,'DejaVu Sans Mono',consolas,'Courier New',monospace\">┏━━━━━━━━━━━━━━━━━━━━━━━━━━━━━━━━━┳━━━━━━━━━━━━━━━━━━━━━━━━┳━━━━━━━━━━━━━━━┓\n",
              "┃<span style=\"font-weight: bold\"> Layer (type)                    </span>┃<span style=\"font-weight: bold\"> Output Shape           </span>┃<span style=\"font-weight: bold\">       Param # </span>┃\n",
              "┡━━━━━━━━━━━━━━━━━━━━━━━━━━━━━━━━━╇━━━━━━━━━━━━━━━━━━━━━━━━╇━━━━━━━━━━━━━━━┩\n",
              "│ dense_11 (<span style=\"color: #0087ff; text-decoration-color: #0087ff\">Dense</span>)                │ (<span style=\"color: #00d7ff; text-decoration-color: #00d7ff\">None</span>, <span style=\"color: #00af00; text-decoration-color: #00af00\">64</span>)             │           <span style=\"color: #00af00; text-decoration-color: #00af00\">128</span> │\n",
              "├─────────────────────────────────┼────────────────────────┼───────────────┤\n",
              "│ dense_12 (<span style=\"color: #0087ff; text-decoration-color: #0087ff\">Dense</span>)                │ (<span style=\"color: #00d7ff; text-decoration-color: #00d7ff\">None</span>, <span style=\"color: #00af00; text-decoration-color: #00af00\">10</span>)             │           <span style=\"color: #00af00; text-decoration-color: #00af00\">650</span> │\n",
              "├─────────────────────────────────┼────────────────────────┼───────────────┤\n",
              "│ dense_13 (<span style=\"color: #0087ff; text-decoration-color: #0087ff\">Dense</span>)                │ (<span style=\"color: #00d7ff; text-decoration-color: #00d7ff\">None</span>, <span style=\"color: #00af00; text-decoration-color: #00af00\">1</span>)              │            <span style=\"color: #00af00; text-decoration-color: #00af00\">11</span> │\n",
              "└─────────────────────────────────┴────────────────────────┴───────────────┘\n",
              "</pre>\n"
            ]
          },
          "metadata": {}
        },
        {
          "output_type": "display_data",
          "data": {
            "text/plain": [
              "\u001b[1m Total params: \u001b[0m\u001b[38;5;34m2,369\u001b[0m (9.26 KB)\n"
            ],
            "text/html": [
              "<pre style=\"white-space:pre;overflow-x:auto;line-height:normal;font-family:Menlo,'DejaVu Sans Mono',consolas,'Courier New',monospace\"><span style=\"font-weight: bold\"> Total params: </span><span style=\"color: #00af00; text-decoration-color: #00af00\">2,369</span> (9.26 KB)\n",
              "</pre>\n"
            ]
          },
          "metadata": {}
        },
        {
          "output_type": "display_data",
          "data": {
            "text/plain": [
              "\u001b[1m Trainable params: \u001b[0m\u001b[38;5;34m789\u001b[0m (3.08 KB)\n"
            ],
            "text/html": [
              "<pre style=\"white-space:pre;overflow-x:auto;line-height:normal;font-family:Menlo,'DejaVu Sans Mono',consolas,'Courier New',monospace\"><span style=\"font-weight: bold\"> Trainable params: </span><span style=\"color: #00af00; text-decoration-color: #00af00\">789</span> (3.08 KB)\n",
              "</pre>\n"
            ]
          },
          "metadata": {}
        },
        {
          "output_type": "display_data",
          "data": {
            "text/plain": [
              "\u001b[1m Non-trainable params: \u001b[0m\u001b[38;5;34m0\u001b[0m (0.00 B)\n"
            ],
            "text/html": [
              "<pre style=\"white-space:pre;overflow-x:auto;line-height:normal;font-family:Menlo,'DejaVu Sans Mono',consolas,'Courier New',monospace\"><span style=\"font-weight: bold\"> Non-trainable params: </span><span style=\"color: #00af00; text-decoration-color: #00af00\">0</span> (0.00 B)\n",
              "</pre>\n"
            ]
          },
          "metadata": {}
        },
        {
          "output_type": "display_data",
          "data": {
            "text/plain": [
              "\u001b[1m Optimizer params: \u001b[0m\u001b[38;5;34m1,580\u001b[0m (6.18 KB)\n"
            ],
            "text/html": [
              "<pre style=\"white-space:pre;overflow-x:auto;line-height:normal;font-family:Menlo,'DejaVu Sans Mono',consolas,'Courier New',monospace\"><span style=\"font-weight: bold\"> Optimizer params: </span><span style=\"color: #00af00; text-decoration-color: #00af00\">1,580</span> (6.18 KB)\n",
              "</pre>\n"
            ]
          },
          "metadata": {}
        }
      ]
    },
    {
      "cell_type": "code",
      "source": [
        "y_prediction=model.predict(x_test)\n",
        "y_prediction[0:5]"
      ],
      "metadata": {
        "colab": {
          "base_uri": "https://localhost:8080/"
        },
        "id": "O0JnoPXT9R29",
        "outputId": "7ff460c1-538c-4e8a-cb85-402e22eddd74"
      },
      "execution_count": 49,
      "outputs": [
        {
          "output_type": "stream",
          "name": "stdout",
          "text": [
            "\u001b[1m2/2\u001b[0m \u001b[32m━━━━━━━━━━━━━━━━━━━━\u001b[0m\u001b[37m\u001b[0m \u001b[1m0s\u001b[0m 136ms/step\n"
          ]
        },
        {
          "output_type": "execute_result",
          "data": {
            "text/plain": [
              "array([[ 67.97575 ],\n",
              "       [ 27.268671],\n",
              "       [ 97.488396],\n",
              "       [101.5591  ],\n",
              "       [ 28.286346]], dtype=float32)"
            ]
          },
          "metadata": {},
          "execution_count": 49
        }
      ]
    },
    {
      "cell_type": "code",
      "source": [
        "y_test.head(5)"
      ],
      "metadata": {
        "colab": {
          "base_uri": "https://localhost:8080/",
          "height": 241
        },
        "id": "ZCvsuG-K9vqO",
        "outputId": "2f95d9df-cd2a-4fcb-b550-716284b9d884"
      },
      "execution_count": 50,
      "outputs": [
        {
          "output_type": "execute_result",
          "data": {
            "text/plain": [
              "208     68.488207\n",
              "188     30.494129\n",
              "12      95.149072\n",
              "221    103.526616\n",
              "239     28.156685\n",
              "Name: y, dtype: float64"
            ],
            "text/html": [
              "<div>\n",
              "<style scoped>\n",
              "    .dataframe tbody tr th:only-of-type {\n",
              "        vertical-align: middle;\n",
              "    }\n",
              "\n",
              "    .dataframe tbody tr th {\n",
              "        vertical-align: top;\n",
              "    }\n",
              "\n",
              "    .dataframe thead th {\n",
              "        text-align: right;\n",
              "    }\n",
              "</style>\n",
              "<table border=\"1\" class=\"dataframe\">\n",
              "  <thead>\n",
              "    <tr style=\"text-align: right;\">\n",
              "      <th></th>\n",
              "      <th>y</th>\n",
              "    </tr>\n",
              "  </thead>\n",
              "  <tbody>\n",
              "    <tr>\n",
              "      <th>208</th>\n",
              "      <td>68.488207</td>\n",
              "    </tr>\n",
              "    <tr>\n",
              "      <th>188</th>\n",
              "      <td>30.494129</td>\n",
              "    </tr>\n",
              "    <tr>\n",
              "      <th>12</th>\n",
              "      <td>95.149072</td>\n",
              "    </tr>\n",
              "    <tr>\n",
              "      <th>221</th>\n",
              "      <td>103.526616</td>\n",
              "    </tr>\n",
              "    <tr>\n",
              "      <th>239</th>\n",
              "      <td>28.156685</td>\n",
              "    </tr>\n",
              "  </tbody>\n",
              "</table>\n",
              "</div><br><label><b>dtype:</b> float64</label>"
            ]
          },
          "metadata": {},
          "execution_count": 50
        }
      ]
    },
    {
      "cell_type": "code",
      "source": [
        "plt.scatter(x_train,y_train,c='b',label='training data')\n",
        "plt.scatter(x_test,y_test,c='y',label='testing data')\n",
        "plt.scatter(x_test,y_prediction,c='r',label='prediction data')\n",
        "plt.legend()\n",
        "plt.show()"
      ],
      "metadata": {
        "colab": {
          "base_uri": "https://localhost:8080/",
          "height": 430
        },
        "id": "SZim93319-Gt",
        "outputId": "f128bfe9-a0c1-404c-d372-47d59d5b8769"
      },
      "execution_count": 51,
      "outputs": [
        {
          "output_type": "display_data",
          "data": {
            "text/plain": [
              "<Figure size 640x480 with 1 Axes>"
            ],
            "image/png": "[encoded data removed]"
          },
          "metadata": {}
        }
      ]
    },
    {
      "cell_type": "code",
      "source": [
        "model.evaluate(x_test,y_test)"
      ],
      "metadata": {
        "colab": {
          "base_uri": "https://localhost:8080/"
        },
        "id": "Y0PvZh_m-hzW",
        "outputId": "683059d9-d4d0-4c66-fc89-bc201b8e4cea"
      },
      "execution_count": 52,
      "outputs": [
        {
          "output_type": "stream",
          "name": "stdout",
          "text": [
            "\u001b[1m2/2\u001b[0m \u001b[32m━━━━━━━━━━━━━━━━━━━━\u001b[0m\u001b[37m\u001b[0m \u001b[1m0s\u001b[0m 108ms/step - loss: 2.2949 - mae: 2.2949\n"
          ]
        },
        {
          "output_type": "execute_result",
          "data": {
            "text/plain": [
              "[2.3322906494140625, 2.3322906494140625]"
            ]
          },
          "metadata": {},
          "execution_count": 52
        }
      ]
    },
    {
      "cell_type": "code",
      "source": [
        "mae = tf.keras.losses.mae(y_test, tf.squeeze(y_prediction))\n",
        "mae"
      ],
      "metadata": {
        "colab": {
          "base_uri": "https://localhost:8080/"
        },
        "id": "U4HqOr2vAEc3",
        "outputId": "c1aaaf90-7828-49eb-c945-39a7d3c697d5"
      },
      "execution_count": 53,
      "outputs": [
        {
          "output_type": "execute_result",
          "data": {
            "text/plain": [
              "<tf.Tensor: shape=(), dtype=float32, numpy=2.3322906494140625>"
            ]
          },
          "metadata": {},
          "execution_count": 53
        }
      ]
    },
    {
      "cell_type": "code",
      "source": [
        "mse = tf.keras.losses.mse(y_test, tf.squeeze(y_prediction))\n",
        "mse"
      ],
      "metadata": {
        "colab": {
          "base_uri": "https://localhost:8080/"
        },
        "id": "TvtIFY-u_Ulu",
        "outputId": "38c24bc0-63e3-4fee-dd70-9a2a2095ee02"
      },
      "execution_count": 54,
      "outputs": [
        {
          "output_type": "execute_result",
          "data": {
            "text/plain": [
              "<tf.Tensor: shape=(), dtype=float32, numpy=8.320403099060059>"
            ]
          },
          "metadata": {},
          "execution_count": 54
        }
      ]
    },
    {
      "cell_type": "code",
      "source": [
        "x_range = range(1, epoch_number+1)\n",
        "loss = history.history['loss']\n",
        "plt.plot(x_range, loss)\n",
        "plt.xlabel('epoch')\n",
        "plt.ylabel('loss')\n",
        "plt.show()"
      ],
      "metadata": {
        "colab": {
          "base_uri": "https://localhost:8080/",
          "height": 449
        },
        "id": "uLFNO_mYHrNn",
        "outputId": "c7e976d7-5cd0-4beb-c88c-3a3969395742"
      },
      "execution_count": 55,
      "outputs": [
        {
          "output_type": "display_data",
          "data": {
            "text/plain": [
              "<Figure size 640x480 with 1 Axes>"
            ],
            "image/png": "[encoded data removed]"
          },
          "metadata": {}
        }
      ]
    },
    {
      "cell_type": "code",
      "source": [
        "for layer in model.layers:\n",
        "    weights = layer.get_weights()[0]\n",
        "    biases = layer.get_weights()[1]\n",
        "    print(f\"\\nWeights:\\n {weights} \\nBiases:\\n {biases}\")"
      ],
      "metadata": {
        "colab": {
          "base_uri": "https://localhost:8080/"
        },
        "id": "Rw8Eu2zJA6A3",
        "outputId": "f7ccd683-93ef-41ce-c560-a16cf30825af"
      },
      "execution_count": 56,
      "outputs": [
        {
          "output_type": "stream",
          "name": "stdout",
          "text": [
            "\n",
            "Weights:\n",
            " [[ 1.73935853e-02 -3.24197533e-03 -2.17077211e-02  3.42017651e-01\n",
            "   1.74249411e-01  3.23733181e-01  3.99075961e-03  4.02436312e-03\n",
            "   1.56802192e-01  1.45707419e-02  1.75767124e-01 -6.85296431e-02\n",
            "   1.68505341e-01 -1.85618494e-02  1.13352365e-03 -2.32776385e-02\n",
            "   6.80377260e-02  5.88517287e-05 -1.42313773e-02  3.43520977e-02\n",
            "   8.43590349e-02 -3.49383466e-02 -3.57870236e-02  5.34256734e-03\n",
            "   6.57612085e-02 -2.89397836e-01 -1.47909641e-01 -2.91157871e-01\n",
            "  -2.64947545e-02  6.88731554e-04  3.39192972e-02  1.58559531e-02\n",
            "  -5.17024100e-02 -1.24244206e-01 -1.25137065e-02 -8.50495882e-03\n",
            "  -1.42062623e-02 -4.85409386e-02 -6.86353352e-03  1.33314729e-02\n",
            "  -1.16219390e-02  2.99620796e-02 -1.44037470e-01  1.77704751e-01\n",
            "   6.49195164e-03 -1.54299932e-02  1.88036170e-02  1.87545434e-01\n",
            "  -1.29278168e-01  7.95281306e-03 -1.04763955e-01  2.97812074e-02\n",
            "   1.41732823e-02  2.34889258e-02 -2.64640123e-01  3.17632081e-03\n",
            "   1.16851730e-02  2.50829428e-01  2.11300813e-02  4.03744448e-03\n",
            "   4.99126650e-02  1.53108016e-01  1.33750111e-01  3.34392525e-02]] \n",
            "Biases:\n",
            " [ 0.11862488 -0.09450392  0.09012386 -0.04845855 -0.20771122 -0.03628614\n",
            " -0.17600161  0.13331549 -0.0569426   0.09758969 -0.19535449  0.29854575\n",
            " -0.06091832 -0.10452423 -0.02739277  0.23246425 -0.05136511 -0.26269338\n",
            " -0.27009007  0.1484071   0.21616906 -0.32826522 -0.05226923 -0.03823877\n",
            " -0.2532978   0.09746303  0.18547584  0.06152177 -0.15303323  0.09545993\n",
            " -0.16973944 -0.15987149 -0.34376222  0.19880421 -0.0434853  -0.11605439\n",
            "  0.30773187 -0.19928572 -0.11462541 -0.05464412 -0.24764617 -0.21715227\n",
            "  0.05624274 -0.20624062  0.1739207  -0.20423175  0.01645871 -0.08850161\n",
            "  0.12619813 -0.09169783  0.12614776  0.08407606 -0.34464955  0.03544619\n",
            "  0.0357975   0.00296299 -0.17617676 -0.06368372  0.12881859 -0.26556155\n",
            " -0.06306744 -0.14985387 -0.10034871  0.21006796]\n",
            "\n",
            "Weights:\n",
            " [[-1.66187897e-01  3.27605277e-01 -7.31649101e-02 -3.72256905e-01\n",
            "  -2.19604224e-01  7.11576641e-02  2.30500668e-01 -3.96115892e-02\n",
            "   8.40479806e-02  3.82231057e-01]\n",
            " [-2.27179825e-01 -3.18363488e-01  4.74109203e-02  1.06704071e-01\n",
            "   2.78258771e-01  4.95161824e-02  1.02275372e-01  5.90216704e-02\n",
            "   1.49311587e-01  7.61467367e-02]\n",
            " [ 2.85239190e-01 -4.08629291e-02  3.15346777e-01 -2.21768901e-01\n",
            "   2.32625723e-01 -1.19164430e-01  5.69725595e-02  1.04659617e-01\n",
            "  -2.13320136e-01  4.23293561e-02]\n",
            " [-1.36357471e-02 -4.46156949e-01 -1.64462492e-01 -9.23228785e-02\n",
            "   2.40929946e-01  3.06636482e-01  2.53731579e-01 -3.56039047e-01\n",
            "   1.13736711e-01 -1.70937017e-01]\n",
            " [ 9.26101729e-02 -5.49295768e-02  1.87247619e-01  1.70393646e-01\n",
            "  -2.44008168e-03  1.59272790e-01  2.28507817e-01 -1.56797707e-01\n",
            "   2.01542482e-01 -2.38525271e-01]\n",
            " [ 2.85998043e-02 -3.14359903e-01 -3.48392352e-02 -3.37724060e-01\n",
            "   4.12136942e-01  1.81100696e-01  1.89398229e-01 -3.76661748e-01\n",
            "  -5.25585450e-02  2.96318568e-02]\n",
            " [ 1.04103737e-01  9.81440991e-02  7.69008249e-02  1.29591346e-01\n",
            "   8.01869407e-02 -8.69543552e-02 -1.03306003e-01 -4.49809097e-02\n",
            "   8.09244588e-02 -2.51777560e-01]\n",
            " [ 1.59292743e-01  1.16322234e-01  1.25711337e-01  8.87448043e-02\n",
            "   1.50016695e-01 -2.35707596e-01  1.94318280e-01 -4.35378812e-02\n",
            "   2.67959610e-02  1.63216829e-01]\n",
            " [ 2.85721868e-01 -9.60939750e-02 -1.69401504e-02 -2.66353250e-01\n",
            "   2.47847632e-01 -4.74092178e-02 -1.40133679e-01 -3.21856976e-01\n",
            "  -1.95069879e-01 -1.52230889e-01]\n",
            " [ 3.72055292e-01  4.11696136e-01 -3.61210629e-02  8.36767405e-02\n",
            "  -4.34033304e-01  2.23678172e-01  9.99593437e-02  2.33077630e-02\n",
            "   4.50177342e-02  3.91381606e-02]\n",
            " [ 5.91927543e-02 -1.08662717e-01 -4.62507382e-02  1.38832018e-01\n",
            "   1.06498249e-01  2.08285861e-02  3.28817330e-02 -3.13952386e-01\n",
            "  -2.26395383e-01  1.51180267e-01]\n",
            " [ 2.16450468e-01  1.28308147e-01  1.03957616e-01  6.54433444e-02\n",
            "  -1.17697954e-01  7.53532350e-02  1.97761610e-01  2.33083889e-01\n",
            "  -2.48390794e-01  1.12641780e-02]\n",
            " [ 8.91107321e-02 -2.92887032e-01 -3.16912830e-01 -2.09483102e-01\n",
            "  -5.89553043e-02  1.05565026e-01  2.35201165e-01 -2.43422300e-01\n",
            "   2.02630520e-01 -2.05657691e-01]\n",
            " [ 2.58102685e-01 -2.50221580e-01 -2.31456146e-01  2.32093766e-01\n",
            "  -1.22669473e-01  1.92945689e-01  1.21526852e-01  2.00715497e-01\n",
            "  -9.88110602e-02 -1.61478728e-01]\n",
            " [-3.17263246e-01 -1.41522154e-01 -6.67471066e-02  7.33677717e-03\n",
            "   3.12493324e-01  8.23927298e-02  1.34906814e-01  8.50600526e-02\n",
            "  -1.18328124e-01 -1.54447276e-02]\n",
            " [-1.17233582e-01  1.48435205e-01 -1.10572815e-01  2.80860692e-01\n",
            "   3.07570808e-02  1.33847222e-01  1.97836280e-01  1.03066340e-01\n",
            "  -2.34298140e-01  2.83556938e-01]\n",
            " [ 7.56534338e-02 -2.40470022e-01 -6.83167949e-02 -1.94427744e-01\n",
            "   4.43343110e-02  1.51266027e-02 -1.60451904e-02 -1.95694372e-01\n",
            "   2.53253933e-02  1.35500342e-01]\n",
            " [ 2.08921224e-01  1.60528168e-01 -9.62148160e-02 -6.75730407e-02\n",
            "   1.71985984e-01 -2.03128040e-01  4.20653298e-02 -7.84870703e-03\n",
            "   1.42258098e-02  1.38097286e-01]\n",
            " [-1.34404689e-01 -1.99384615e-01  3.15783247e-02 -1.78374186e-01\n",
            "  -2.10441381e-01  2.88128674e-01 -2.29076341e-01  9.25420746e-02\n",
            "  -1.53543457e-01 -9.80712101e-02]\n",
            " [-5.98704331e-02  2.17117876e-01 -2.75610387e-01  2.56618634e-02\n",
            "   2.23851334e-02  1.11441620e-01 -2.33669370e-01 -9.27899405e-02\n",
            "  -2.54249364e-01  1.20064080e-01]\n",
            " [-5.16398177e-02  4.68097210e-01  4.33953591e-02  4.41137180e-02\n",
            "   2.53723841e-03 -3.57164443e-02 -1.47763371e-01 -2.69291788e-01\n",
            "  -4.77976352e-02  1.88733935e-01]\n",
            " [-6.63056374e-02 -2.01487690e-01  1.32480161e-02 -1.19222879e-01\n",
            "   2.75846988e-01  7.63036534e-02 -7.75164738e-03  1.90822139e-01\n",
            "   3.16393256e-01 -1.59118280e-01]\n",
            " [ 9.00796335e-03 -1.45850703e-01  2.73841202e-01 -2.87031941e-02\n",
            "   4.00855541e-01 -1.29528061e-01  1.28954411e-01  1.16284959e-01\n",
            "  -3.81985545e-01 -3.29032600e-01]\n",
            " [-3.72671038e-01 -7.91520029e-02 -1.87341988e-01  1.81658298e-01\n",
            "   3.35687757e-01 -9.85753089e-02 -1.15353480e-01 -1.05905823e-01\n",
            "   3.21677513e-03 -8.29910636e-02]\n",
            " [-1.04485065e-01 -3.02025765e-01 -2.19580665e-01  2.05166973e-02\n",
            "  -2.10826918e-01 -2.99156411e-03 -7.52654374e-02 -1.68881074e-01\n",
            "   5.14938012e-02 -6.23681173e-02]\n",
            " [-1.59580819e-02  6.96644261e-02  1.05311751e-01 -1.26551986e-01\n",
            "  -1.64079592e-01 -3.49304974e-01 -8.24058652e-02  3.22791427e-01\n",
            "   2.55957425e-01  3.07680786e-01]\n",
            " [-1.52864382e-01  3.27787772e-02 -2.69304905e-02 -9.26355943e-02\n",
            "  -1.16979070e-01  1.35267094e-01 -2.09076107e-01  2.84012705e-01\n",
            "  -8.98931101e-02 -6.66519329e-02]\n",
            " [ 5.61310649e-02  1.93668827e-01  2.53500277e-03  1.48934409e-01\n",
            "  -1.12404957e-01 -2.60715842e-01 -2.07733124e-01  3.42747390e-01\n",
            "  -1.70190841e-01  3.36945951e-01]\n",
            " [ 1.44787222e-01 -4.97020446e-02 -2.43938461e-01  1.00391051e-02\n",
            "   1.19960867e-02  1.05423972e-01  3.10027629e-01  2.54826069e-01\n",
            "   2.58926928e-01 -4.55834270e-02]\n",
            " [ 4.26766947e-02 -6.15341403e-02  3.60507965e-01  1.86669007e-01\n",
            "   1.67600632e-01  4.85602170e-02  8.57833475e-02  1.29967192e-02\n",
            "  -1.03638731e-01  6.35252297e-02]\n",
            " [-2.07315102e-01  1.13569885e-01  2.52770543e-01  2.80918539e-01\n",
            "   4.11046632e-02  8.03371593e-02  1.01844799e-02 -1.36840075e-01\n",
            "   1.76804245e-01  1.28660426e-01]\n",
            " [-1.74201131e-01 -1.14404410e-01  7.27048740e-02  9.29978043e-02\n",
            "   1.12711154e-01  1.35199279e-01 -2.92305142e-01 -5.78826107e-02\n",
            "   1.77361012e-01 -8.76159370e-02]\n",
            " [ 1.08898394e-01 -2.50601470e-01  1.66773185e-01 -1.92179736e-02\n",
            "   2.47329250e-02  2.19561890e-01 -1.16748139e-02  2.51052320e-01\n",
            "  -4.64732945e-02 -3.12624067e-01]\n",
            " [ 1.28555968e-01  1.64453432e-01  5.81491459e-03  2.69059688e-01\n",
            "  -1.09048463e-01 -2.16941804e-01  1.56041393e-02  6.66536167e-02\n",
            "  -2.24086344e-01  1.45100161e-01]\n",
            " [-1.31238878e-01 -3.03032815e-01 -2.23710820e-01 -7.96489790e-02\n",
            "   1.17608607e-01 -3.45755816e-01  4.07125913e-02  4.31741541e-03\n",
            "  -6.99953958e-02 -4.36042279e-01]\n",
            " [ 9.64383557e-02 -1.50523812e-01 -3.08212310e-01  2.46252213e-02\n",
            "  -6.18285462e-02  4.83340621e-02 -3.07911038e-01  3.25212590e-02\n",
            "   8.09053481e-02 -3.46889585e-01]\n",
            " [ 1.17239885e-01 -8.18303004e-02 -2.63586640e-01  1.93572566e-01\n",
            "  -1.65366352e-01 -3.01353051e-03  1.06335215e-01  3.89074907e-02\n",
            "  -2.32047159e-02  1.78308561e-02]\n",
            " [ 2.14866832e-01 -3.47073823e-01  8.01438540e-02 -3.04349035e-01\n",
            "   3.32155526e-01 -2.59679168e-01  2.60654800e-02  1.76323369e-01\n",
            "   1.53140679e-01 -3.18822473e-01]\n",
            " [ 1.20868012e-01 -3.40835661e-01 -3.64975244e-01 -1.37644202e-01\n",
            "   1.03990503e-01 -1.45025685e-01 -2.83608645e-01  8.06922466e-03\n",
            "   1.12173155e-01  1.33130148e-01]\n",
            " [ 1.80494994e-01 -4.03132215e-02  3.95544618e-01  1.12144098e-01\n",
            "   6.96204882e-03 -1.86799169e-01 -8.33940208e-02 -1.41167402e-01\n",
            "   2.53071666e-01  2.67071813e-01]\n",
            " [ 3.23282629e-02 -1.64731041e-01  5.31768287e-03  3.56942602e-02\n",
            "   2.11581320e-01 -1.12882912e-01  2.00696617e-01  8.48088530e-05\n",
            "  -2.58264214e-01  9.17271599e-02]\n",
            " [-9.99640077e-02 -1.64332017e-01  2.18991175e-01  5.43802716e-02\n",
            "   3.66781950e-01 -1.29267484e-01 -1.42289950e-02 -1.46792457e-01\n",
            "  -1.96742162e-01 -2.61759132e-01]\n",
            " [-1.92087069e-01  3.67011398e-01 -5.74140288e-02 -1.11086525e-01\n",
            "  -2.38021433e-01 -4.98042107e-02 -1.53425187e-01  3.08372259e-01\n",
            "  -6.82658255e-02  1.78258166e-01]\n",
            " [-7.29629910e-03 -2.37302855e-01  1.73916277e-02  1.48610860e-01\n",
            "   2.96994895e-01 -9.16513987e-03  2.96010315e-01 -3.46059501e-01\n",
            "  -1.96730047e-01 -1.29262134e-01]\n",
            " [ 1.85413033e-01 -1.76619947e-01  1.89916804e-01 -3.40503193e-02\n",
            "  -4.55741175e-02 -2.07308829e-01 -1.25807807e-01 -1.13332681e-01\n",
            "   7.00284019e-02  1.39992759e-01]\n",
            " [-3.21650095e-02 -5.82954613e-03 -2.60373473e-01 -2.77205199e-01\n",
            "   9.32171475e-03  4.74346913e-02 -4.51347716e-02  1.01838358e-01\n",
            "   1.01181179e-01 -1.00399956e-01]\n",
            " [-2.58388370e-01 -1.26292128e-02 -1.01161972e-01  2.84619272e-01\n",
            "   6.88546598e-02  9.93977115e-02 -5.48457280e-02 -5.95176145e-02\n",
            "   1.54052570e-01  1.50319889e-01]\n",
            " [ 2.42885113e-01  1.89113766e-02 -2.73665071e-01 -2.32699811e-01\n",
            "  -1.28869280e-01 -2.32760869e-02  2.09523216e-01 -2.38764077e-01\n",
            "  -9.08262189e-03 -2.59741694e-01]\n",
            " [-2.45260343e-01  3.75679880e-01 -1.38356552e-01 -1.98734850e-01\n",
            "  -9.20788050e-02 -6.89344779e-02 -4.60577384e-02  2.25683719e-01\n",
            "  -5.86895496e-02 -8.44533220e-02]\n",
            " [-1.01205282e-01 -1.94392130e-01  4.19495627e-03 -1.10785909e-01\n",
            "  -3.58970076e-01 -1.31789029e-01 -1.78503066e-01 -1.54720157e-01\n",
            "   2.82981843e-02 -3.83134708e-02]\n",
            " [ 1.53727783e-02 -9.70776603e-02 -1.72542036e-01  2.31581047e-01\n",
            "   1.47307798e-01  2.12904409e-01 -2.51713842e-01  2.83377886e-01\n",
            "   1.42886102e-01  8.61702338e-02]\n",
            " [ 1.01067737e-01  4.03280035e-02 -7.28973793e-03  1.96900129e-01\n",
            "  -2.34199956e-01  1.21254094e-01 -3.17318887e-01 -1.41943887e-01\n",
            "   6.00168407e-02 -6.21606782e-02]\n",
            " [-7.99949467e-02 -6.77480996e-02 -1.55573383e-01 -1.15823224e-01\n",
            "  -5.29904515e-02  1.83074579e-01 -7.97017589e-02  3.90602797e-02\n",
            "   5.44078788e-03 -1.08587727e-01]\n",
            " [-1.75203457e-02  5.66741943e-01  4.71179873e-01 -7.13252053e-02\n",
            "  -2.99461365e-01  3.97732347e-01 -7.96558857e-02 -6.77458793e-02\n",
            "   6.49210066e-02  1.21361211e-01]\n",
            " [-3.14065665e-01 -8.13667253e-02 -1.32221267e-01  1.95013016e-01\n",
            "  -5.04923984e-04 -2.46638358e-01 -1.04010947e-01  3.75284791e-01\n",
            "   2.23255888e-01 -1.38112813e-01]\n",
            " [-1.82908878e-01 -1.73882797e-01  2.48037964e-01  2.26794839e-01\n",
            "   2.67572492e-01 -2.34786980e-02  5.36698736e-02 -1.43104410e-02\n",
            "  -1.96797222e-01  1.73969179e-01]\n",
            " [ 1.67895973e-01 -2.14456648e-01  1.73584938e-01  3.06907833e-01\n",
            "   1.00243516e-01 -5.33829890e-02 -1.74986362e-01 -8.79614428e-02\n",
            "  -1.68258771e-01  1.76652521e-01]\n",
            " [ 1.02060519e-01 -2.91803144e-02  1.80718023e-02 -2.02987731e-01\n",
            "   1.67760700e-01  3.10114205e-01 -6.32074177e-02 -3.28789771e-01\n",
            "   1.33118227e-01  8.79761279e-02]\n",
            " [-6.56701848e-02  1.96152106e-01  2.01102614e-01  1.29510865e-01\n",
            "  -6.39438676e-03 -1.22426510e-01  1.52472347e-01 -1.29169911e-01\n",
            "   2.87246366e-05  2.10515812e-01]\n",
            " [-1.22991301e-01  3.67520005e-02 -2.29139533e-02  9.99923572e-02\n",
            "   3.11653882e-01  2.69678086e-01  1.29956529e-01  1.05523162e-01\n",
            "  -1.78721607e-01 -2.58883052e-02]\n",
            " [-7.66129941e-02  1.14928305e-01  1.84322633e-02  1.88723743e-01\n",
            "  -1.62250906e-01 -1.65896162e-01 -7.62851983e-02 -2.74669111e-01\n",
            "  -1.22994684e-01  1.73941433e-01]\n",
            " [ 2.13540629e-01  1.12394832e-01 -3.38676088e-02  1.16358489e-01\n",
            "   1.30389348e-01 -9.92108975e-03  1.54868782e-01 -2.74761081e-01\n",
            "   1.11119241e-01  8.37991014e-02]\n",
            " [ 2.83564240e-01  3.49096246e-02  1.75247192e-01 -7.71878958e-02\n",
            "   8.45975056e-02 -1.80823356e-01  7.88680092e-02 -3.08442533e-01\n",
            "  -1.99599817e-01 -1.26423821e-01]\n",
            " [-1.04032546e-01  4.14938748e-01  3.71630602e-02  3.28005105e-02\n",
            "   5.52960113e-02 -8.26339796e-02  1.81373730e-02 -1.50401980e-01\n",
            "   1.36221021e-01  2.05312669e-01]] \n",
            "Biases:\n",
            " [ 0.07475949 -0.16483752  0.00525794 -0.08001611  0.1241255   0.084851\n",
            "  0.05907186 -0.10529209 -0.00604847 -0.10898844]\n",
            "\n",
            "Weights:\n",
            " [[ 0.11841948]\n",
            " [-0.08082023]\n",
            " [-0.03341337]\n",
            " [-0.10262899]\n",
            " [ 0.09495202]\n",
            " [ 0.24489067]\n",
            " [ 0.16470101]\n",
            " [-0.5163034 ]\n",
            " [ 0.00735517]\n",
            " [-0.05659218]] \n",
            "Biases:\n",
            " [0.15184358]\n"
          ]
        }
      ]
    },
    {
      "cell_type": "code",
      "source": [],
      "metadata": {
        "id": "ldVXgkTZIDDx"
      },
      "execution_count": null,
      "outputs": []
    }
  ]
}